{
  "nbformat": 4,
  "nbformat_minor": 0,
  "metadata": {
    "colab": {
      "name": "self driving car.ipynb",
      "version": "0.3.2",
      "provenance": [],
      "include_colab_link": true
    },
    "kernelspec": {
      "name": "python3",
      "display_name": "Python 3"
    },
    "accelerator": "GPU"
  },
  "cells": [
    {
      "cell_type": "markdown",
      "metadata": {
        "id": "view-in-github",
        "colab_type": "text"
      },
      "source": [
        "<a href=\"https://colab.research.google.com/github/c3Zor/self-driving-car/blob/master/self_driving_car.ipynb\" target=\"_parent\"><img src=\"https://colab.research.google.com/assets/colab-badge.svg\" alt=\"Open In Colab\"/></a>"
      ]
    },
    {
      "metadata": {
        "id": "9kAQK0AItvD8",
        "colab_type": "code",
        "colab": {
          "base_uri": "https://localhost:8080/",
          "height": 140
        },
        "outputId": "24b06a49-de65-4054-b938-7ce0bd0802d2"
      },
      "cell_type": "code",
      "source": [
        "#cloning git repository\n",
        "!git clone https://github.com/c3Zor/self-driving-car.git"
      ],
      "execution_count": 3,
      "outputs": [
        {
          "output_type": "stream",
          "text": [
            "Cloning into 'self-driving-car'...\n",
            "remote: Enumerating objects: 14056, done.\u001b[K\n",
            "remote: Counting objects: 100% (14056/14056), done.\u001b[K\n",
            "remote: Compressing objects: 100% (14056/14056), done.\u001b[K\n",
            "remote: Total 14056 (delta 0), reused 14056 (delta 0), pack-reused 0\u001b[K\n",
            "Receiving objects: 100% (14056/14056), 203.20 MiB | 29.79 MiB/s, done.\n",
            "Checking out files: 100% (14063/14063), done.\n"
          ],
          "name": "stdout"
        }
      ]
    },
    {
      "metadata": {
        "id": "n71GmiisrKDs",
        "colab_type": "code",
        "colab": {
          "base_uri": "https://localhost:8080/",
          "height": 34
        },
        "outputId": "cde7584c-2fcb-4053-f9de-ed419fbe739e"
      },
      "cell_type": "code",
      "source": [
        "# checking if everything is in tackt\n",
        "!ls self-driving-car"
      ],
      "execution_count": 4,
      "outputs": [
        {
          "output_type": "stream",
          "text": [
            "driving_log.csv  IMG  jupyter_lab\n"
          ],
          "name": "stdout"
        }
      ]
    },
    {
      "metadata": {
        "id": "bsq8hpP7s4op",
        "colab_type": "code",
        "colab": {}
      },
      "cell_type": "code",
      "source": [
        "#importing libraries\n",
        "import os\n",
        "import numpy as np\n",
        "import matplotlib.pyplot as plt\n",
        "import keras\n",
        "from keras.models import Sequential \n",
        "from keras.optimizers import Adam\n",
        "from keras.layers import Convolution2D, MaxPooling2D, Dropout, Flatten, Dense\n",
        "import cv2\n",
        "import pandas as pd\n",
        "import ntpath\n",
        "import random"
      ],
      "execution_count": 0,
      "outputs": []
    },
    {
      "metadata": {
        "id": "L2Ie--akta3q",
        "colab_type": "code",
        "colab": {
          "base_uri": "https://localhost:8080/",
          "height": 299
        },
        "outputId": "0f45a37d-469c-4473-d44a-957e3a9fd857"
      },
      "cell_type": "code",
      "source": [
        "# dir assining directory to a variable dir\n",
        "# defining collums of our csv data \n",
        "# loading our data to a pandas dataframe to a data var and assinging with named collums\n",
        "# and saplming the random data\n",
        "dir = 'self-driving-car'\n",
        "columns = ['center', 'left', 'right', 'steering', 'throttle', 'reverse', 'speed']\n",
        "data = pd.read_csv(os.path.join(dir, 'driving_log.csv'),names=columns)\n",
        "pd.set_option('display.max_colwidth', -1)\n",
        "data.sample(5)  "
      ],
      "execution_count": 14,
      "outputs": [
        {
          "output_type": "execute_result",
          "data": {
            "text/html": [
              "<div>\n",
              "<style scoped>\n",
              "    .dataframe tbody tr th:only-of-type {\n",
              "        vertical-align: middle;\n",
              "    }\n",
              "\n",
              "    .dataframe tbody tr th {\n",
              "        vertical-align: top;\n",
              "    }\n",
              "\n",
              "    .dataframe thead th {\n",
              "        text-align: right;\n",
              "    }\n",
              "</style>\n",
              "<table border=\"1\" class=\"dataframe\">\n",
              "  <thead>\n",
              "    <tr style=\"text-align: right;\">\n",
              "      <th></th>\n",
              "      <th>center</th>\n",
              "      <th>left</th>\n",
              "      <th>right</th>\n",
              "      <th>steering</th>\n",
              "      <th>throttle</th>\n",
              "      <th>reverse</th>\n",
              "      <th>speed</th>\n",
              "    </tr>\n",
              "  </thead>\n",
              "  <tbody>\n",
              "    <tr>\n",
              "      <th>138</th>\n",
              "      <td>D:\\torrent\\data\\simulator-windows-64\\IMG\\center_2018_12_28_07_14_38_018.jpg</td>\n",
              "      <td>D:\\torrent\\data\\simulator-windows-64\\IMG\\left_2018_12_28_07_14_38_018.jpg</td>\n",
              "      <td>D:\\torrent\\data\\simulator-windows-64\\IMG\\right_2018_12_28_07_14_38_018.jpg</td>\n",
              "      <td>-0.226130</td>\n",
              "      <td>1.0</td>\n",
              "      <td>0.0</td>\n",
              "      <td>30.17994</td>\n",
              "    </tr>\n",
              "    <tr>\n",
              "      <th>1803</th>\n",
              "      <td>D:\\torrent\\data\\simulator-windows-64\\IMG\\center_2018_12_28_07_17_38_438.jpg</td>\n",
              "      <td>D:\\torrent\\data\\simulator-windows-64\\IMG\\left_2018_12_28_07_17_38_438.jpg</td>\n",
              "      <td>D:\\torrent\\data\\simulator-windows-64\\IMG\\right_2018_12_28_07_17_38_438.jpg</td>\n",
              "      <td>0.000000</td>\n",
              "      <td>1.0</td>\n",
              "      <td>0.0</td>\n",
              "      <td>30.18998</td>\n",
              "    </tr>\n",
              "    <tr>\n",
              "      <th>3187</th>\n",
              "      <td>D:\\torrent\\data\\simulator-windows-64\\IMG\\center_2018_12_28_07_20_08_487.jpg</td>\n",
              "      <td>D:\\torrent\\data\\simulator-windows-64\\IMG\\left_2018_12_28_07_20_08_487.jpg</td>\n",
              "      <td>D:\\torrent\\data\\simulator-windows-64\\IMG\\right_2018_12_28_07_20_08_487.jpg</td>\n",
              "      <td>0.000000</td>\n",
              "      <td>1.0</td>\n",
              "      <td>0.0</td>\n",
              "      <td>30.19045</td>\n",
              "    </tr>\n",
              "    <tr>\n",
              "      <th>1155</th>\n",
              "      <td>D:\\torrent\\data\\simulator-windows-64\\IMG\\center_2018_12_28_07_16_28_258.jpg</td>\n",
              "      <td>D:\\torrent\\data\\simulator-windows-64\\IMG\\left_2018_12_28_07_16_28_258.jpg</td>\n",
              "      <td>D:\\torrent\\data\\simulator-windows-64\\IMG\\right_2018_12_28_07_16_28_258.jpg</td>\n",
              "      <td>0.000000</td>\n",
              "      <td>1.0</td>\n",
              "      <td>0.0</td>\n",
              "      <td>30.18998</td>\n",
              "    </tr>\n",
              "    <tr>\n",
              "      <th>2803</th>\n",
              "      <td>D:\\torrent\\data\\simulator-windows-64\\IMG\\center_2018_12_28_07_19_26_900.jpg</td>\n",
              "      <td>D:\\torrent\\data\\simulator-windows-64\\IMG\\left_2018_12_28_07_19_26_900.jpg</td>\n",
              "      <td>D:\\torrent\\data\\simulator-windows-64\\IMG\\right_2018_12_28_07_19_26_900.jpg</td>\n",
              "      <td>0.343596</td>\n",
              "      <td>1.0</td>\n",
              "      <td>0.0</td>\n",
              "      <td>30.19054</td>\n",
              "    </tr>\n",
              "  </tbody>\n",
              "</table>\n",
              "</div>"
            ],
            "text/plain": [
              "                                                                           center  \\\n",
              "138   D:\\torrent\\data\\simulator-windows-64\\IMG\\center_2018_12_28_07_14_38_018.jpg   \n",
              "1803  D:\\torrent\\data\\simulator-windows-64\\IMG\\center_2018_12_28_07_17_38_438.jpg   \n",
              "3187  D:\\torrent\\data\\simulator-windows-64\\IMG\\center_2018_12_28_07_20_08_487.jpg   \n",
              "1155  D:\\torrent\\data\\simulator-windows-64\\IMG\\center_2018_12_28_07_16_28_258.jpg   \n",
              "2803  D:\\torrent\\data\\simulator-windows-64\\IMG\\center_2018_12_28_07_19_26_900.jpg   \n",
              "\n",
              "                                                                            left  \\\n",
              "138    D:\\torrent\\data\\simulator-windows-64\\IMG\\left_2018_12_28_07_14_38_018.jpg   \n",
              "1803   D:\\torrent\\data\\simulator-windows-64\\IMG\\left_2018_12_28_07_17_38_438.jpg   \n",
              "3187   D:\\torrent\\data\\simulator-windows-64\\IMG\\left_2018_12_28_07_20_08_487.jpg   \n",
              "1155   D:\\torrent\\data\\simulator-windows-64\\IMG\\left_2018_12_28_07_16_28_258.jpg   \n",
              "2803   D:\\torrent\\data\\simulator-windows-64\\IMG\\left_2018_12_28_07_19_26_900.jpg   \n",
              "\n",
              "                                                                            right  \\\n",
              "138    D:\\torrent\\data\\simulator-windows-64\\IMG\\right_2018_12_28_07_14_38_018.jpg   \n",
              "1803   D:\\torrent\\data\\simulator-windows-64\\IMG\\right_2018_12_28_07_17_38_438.jpg   \n",
              "3187   D:\\torrent\\data\\simulator-windows-64\\IMG\\right_2018_12_28_07_20_08_487.jpg   \n",
              "1155   D:\\torrent\\data\\simulator-windows-64\\IMG\\right_2018_12_28_07_16_28_258.jpg   \n",
              "2803   D:\\torrent\\data\\simulator-windows-64\\IMG\\right_2018_12_28_07_19_26_900.jpg   \n",
              "\n",
              "      steering  throttle  reverse     speed  \n",
              "138  -0.226130  1.0       0.0      30.17994  \n",
              "1803  0.000000  1.0       0.0      30.18998  \n",
              "3187  0.000000  1.0       0.0      30.19045  \n",
              "1155  0.000000  1.0       0.0      30.18998  \n",
              "2803  0.343596  1.0       0.0      30.19054  "
            ]
          },
          "metadata": {
            "tags": []
          },
          "execution_count": 14
        }
      ]
    },
    {
      "metadata": {
        "id": "xdlcxfVDuxoh",
        "colab_type": "code",
        "colab": {
          "base_uri": "https://localhost:8080/",
          "height": 215
        },
        "outputId": "ac87411b-c6d3-486e-a63d-8a74d6eb18a3"
      },
      "cell_type": "code",
      "source": [
        "# creating a function to split path and leave only img name \n",
        "# we have to apply this function to our data\n",
        "# becouse this is dataframe series type we can invope path_leaf function by using apply function\n",
        "\n",
        "def path_leaf(path):\n",
        "  head, tail = ntpath.split(path)\n",
        "  return tail\n",
        "data['center'] = data['center'].apply(path_leaf)\n",
        "data['left'] = data['left'].apply(path_leaf)\n",
        "data['right'] = data['right'].apply(path_leaf)\n",
        "data.sample(5)"
      ],
      "execution_count": 17,
      "outputs": [
        {
          "output_type": "execute_result",
          "data": {
            "text/html": [
              "<div>\n",
              "<style scoped>\n",
              "    .dataframe tbody tr th:only-of-type {\n",
              "        vertical-align: middle;\n",
              "    }\n",
              "\n",
              "    .dataframe tbody tr th {\n",
              "        vertical-align: top;\n",
              "    }\n",
              "\n",
              "    .dataframe thead th {\n",
              "        text-align: right;\n",
              "    }\n",
              "</style>\n",
              "<table border=\"1\" class=\"dataframe\">\n",
              "  <thead>\n",
              "    <tr style=\"text-align: right;\">\n",
              "      <th></th>\n",
              "      <th>center</th>\n",
              "      <th>left</th>\n",
              "      <th>right</th>\n",
              "      <th>steering</th>\n",
              "      <th>throttle</th>\n",
              "      <th>reverse</th>\n",
              "      <th>speed</th>\n",
              "    </tr>\n",
              "  </thead>\n",
              "  <tbody>\n",
              "    <tr>\n",
              "      <th>2487</th>\n",
              "      <td>center_2018_12_28_07_18_52_558.jpg</td>\n",
              "      <td>left_2018_12_28_07_18_52_558.jpg</td>\n",
              "      <td>right_2018_12_28_07_18_52_558.jpg</td>\n",
              "      <td>0.000000</td>\n",
              "      <td>1.0</td>\n",
              "      <td>0.0</td>\n",
              "      <td>30.19015</td>\n",
              "    </tr>\n",
              "    <tr>\n",
              "      <th>476</th>\n",
              "      <td>center_2018_12_28_07_15_14_799.jpg</td>\n",
              "      <td>left_2018_12_28_07_15_14_799.jpg</td>\n",
              "      <td>right_2018_12_28_07_15_14_799.jpg</td>\n",
              "      <td>0.000000</td>\n",
              "      <td>1.0</td>\n",
              "      <td>0.0</td>\n",
              "      <td>30.19036</td>\n",
              "    </tr>\n",
              "    <tr>\n",
              "      <th>3825</th>\n",
              "      <td>center_2018_12_28_07_21_17_859.jpg</td>\n",
              "      <td>left_2018_12_28_07_21_17_859.jpg</td>\n",
              "      <td>right_2018_12_28_07_21_17_859.jpg</td>\n",
              "      <td>0.512602</td>\n",
              "      <td>1.0</td>\n",
              "      <td>0.0</td>\n",
              "      <td>30.18595</td>\n",
              "    </tr>\n",
              "    <tr>\n",
              "      <th>2172</th>\n",
              "      <td>center_2018_12_28_07_18_18_441.jpg</td>\n",
              "      <td>left_2018_12_28_07_18_18_441.jpg</td>\n",
              "      <td>right_2018_12_28_07_18_18_441.jpg</td>\n",
              "      <td>1.000000</td>\n",
              "      <td>0.0</td>\n",
              "      <td>1.0</td>\n",
              "      <td>18.00608</td>\n",
              "    </tr>\n",
              "    <tr>\n",
              "      <th>870</th>\n",
              "      <td>center_2018_12_28_07_15_57_342.jpg</td>\n",
              "      <td>left_2018_12_28_07_15_57_342.jpg</td>\n",
              "      <td>right_2018_12_28_07_15_57_342.jpg</td>\n",
              "      <td>0.000000</td>\n",
              "      <td>1.0</td>\n",
              "      <td>0.0</td>\n",
              "      <td>30.19025</td>\n",
              "    </tr>\n",
              "  </tbody>\n",
              "</table>\n",
              "</div>"
            ],
            "text/plain": [
              "                                  center                              left  \\\n",
              "2487  center_2018_12_28_07_18_52_558.jpg  left_2018_12_28_07_18_52_558.jpg   \n",
              "476   center_2018_12_28_07_15_14_799.jpg  left_2018_12_28_07_15_14_799.jpg   \n",
              "3825  center_2018_12_28_07_21_17_859.jpg  left_2018_12_28_07_21_17_859.jpg   \n",
              "2172  center_2018_12_28_07_18_18_441.jpg  left_2018_12_28_07_18_18_441.jpg   \n",
              "870   center_2018_12_28_07_15_57_342.jpg  left_2018_12_28_07_15_57_342.jpg   \n",
              "\n",
              "                                  right  steering  throttle  reverse     speed  \n",
              "2487  right_2018_12_28_07_18_52_558.jpg  0.000000  1.0       0.0      30.19015  \n",
              "476   right_2018_12_28_07_15_14_799.jpg  0.000000  1.0       0.0      30.19036  \n",
              "3825  right_2018_12_28_07_21_17_859.jpg  0.512602  1.0       0.0      30.18595  \n",
              "2172  right_2018_12_28_07_18_18_441.jpg  1.000000  0.0       1.0      18.00608  \n",
              "870   right_2018_12_28_07_15_57_342.jpg  0.000000  1.0       0.0      30.19025  "
            ]
          },
          "metadata": {
            "tags": []
          },
          "execution_count": 17
        }
      ]
    },
    {
      "metadata": {
        "id": "zu62mquDwJWF",
        "colab_type": "code",
        "colab": {
          "base_uri": "https://localhost:8080/",
          "height": 70
        },
        "outputId": "381f795c-b9fb-4533-e9b7-632f54c3f574"
      },
      "cell_type": "code",
      "source": [
        "num_bins = 25\n",
        "hist, bins = np.histogram(data['steering'], num_bins)\n",
        "center = bins[:-1]+\n",
        "print(bins)"
      ],
      "execution_count": 18,
      "outputs": [
        {
          "output_type": "stream",
          "text": [
            "[-1.   -0.92 -0.84 -0.76 -0.68 -0.6  -0.52 -0.44 -0.36 -0.28 -0.2  -0.12\n",
            " -0.04  0.04  0.12  0.2   0.28  0.36  0.44  0.52  0.6   0.68  0.76  0.84\n",
            "  0.92  1.  ]\n"
          ],
          "name": "stdout"
        }
      ]
    },
    {
      "metadata": {
        "id": "q_6AqdyXw3o-",
        "colab_type": "code",
        "colab": {}
      },
      "cell_type": "code",
      "source": [
        ""
      ],
      "execution_count": 0,
      "outputs": []
    }
  ]
}